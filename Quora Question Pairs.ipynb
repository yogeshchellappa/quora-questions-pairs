{
 "cells": [
  {
   "cell_type": "markdown",
   "metadata": {},
   "source": [
    "# Predict if pairs of questions from Quora contain two questions with the same semantics. \n",
    "Dataset: https://www.kaggle.com/c/quora-question-pairs/data"
   ]
  },
  {
   "cell_type": "markdown",
   "metadata": {},
   "source": [
    "## Read the data"
   ]
  },
  {
   "cell_type": "code",
   "execution_count": 32,
   "metadata": {},
   "outputs": [],
   "source": [
    "import warnings\n",
    "warnings.filterwarnings(\"ignore\")\n",
    "\n",
    "import pandas as pd\n",
    "import numpy as np\n",
    "import h5py\n",
    "import pickle\n",
    "from sklearn.model_selection import train_test_split\n",
    "from numpy.random import seed\n",
    "\n",
    "from keras.preprocessing.text import Tokenizer\n",
    "from keras.preprocessing.sequence import pad_sequences\n",
    "from keras import models\n",
    "from keras import layers\n",
    "from keras import optimizers\n",
    "from keras import activations\n",
    "from keras import losses\n",
    "from keras import metrics\n",
    "from keras.utils import to_categorical\n",
    "from keras.models import load_model\n",
    "from keras import layers\n",
    "from keras import activations\n",
    "from keras import losses\n",
    "from keras import optimizers\n",
    "from keras import metrics\n",
    "from keras import Input\n",
    "from keras.models import Model\n",
    "import keras.backend as K\n",
    "\n",
    "import matplotlib.pyplot as plt\n",
    "%matplotlib inline"
   ]
  },
  {
   "cell_type": "code",
   "execution_count": 2,
   "metadata": {},
   "outputs": [],
   "source": [
    "dfOriginal = pd.read_csv('train.csv')"
   ]
  },
  {
   "cell_type": "code",
   "execution_count": 3,
   "metadata": {},
   "outputs": [
    {
     "data": {
      "text/html": [
       "<div>\n",
       "<style scoped>\n",
       "    .dataframe tbody tr th:only-of-type {\n",
       "        vertical-align: middle;\n",
       "    }\n",
       "\n",
       "    .dataframe tbody tr th {\n",
       "        vertical-align: top;\n",
       "    }\n",
       "\n",
       "    .dataframe thead th {\n",
       "        text-align: right;\n",
       "    }\n",
       "</style>\n",
       "<table border=\"1\" class=\"dataframe\">\n",
       "  <thead>\n",
       "    <tr style=\"text-align: right;\">\n",
       "      <th></th>\n",
       "      <th>id</th>\n",
       "      <th>qid1</th>\n",
       "      <th>qid2</th>\n",
       "      <th>question1</th>\n",
       "      <th>question2</th>\n",
       "      <th>is_duplicate</th>\n",
       "    </tr>\n",
       "  </thead>\n",
       "  <tbody>\n",
       "    <tr>\n",
       "      <th>0</th>\n",
       "      <td>0</td>\n",
       "      <td>1</td>\n",
       "      <td>2</td>\n",
       "      <td>What is the step by step guide to invest in sh...</td>\n",
       "      <td>What is the step by step guide to invest in sh...</td>\n",
       "      <td>0</td>\n",
       "    </tr>\n",
       "    <tr>\n",
       "      <th>1</th>\n",
       "      <td>1</td>\n",
       "      <td>3</td>\n",
       "      <td>4</td>\n",
       "      <td>What is the story of Kohinoor (Koh-i-Noor) Dia...</td>\n",
       "      <td>What would happen if the Indian government sto...</td>\n",
       "      <td>0</td>\n",
       "    </tr>\n",
       "    <tr>\n",
       "      <th>2</th>\n",
       "      <td>2</td>\n",
       "      <td>5</td>\n",
       "      <td>6</td>\n",
       "      <td>How can I increase the speed of my internet co...</td>\n",
       "      <td>How can Internet speed be increased by hacking...</td>\n",
       "      <td>0</td>\n",
       "    </tr>\n",
       "    <tr>\n",
       "      <th>3</th>\n",
       "      <td>3</td>\n",
       "      <td>7</td>\n",
       "      <td>8</td>\n",
       "      <td>Why am I mentally very lonely? How can I solve...</td>\n",
       "      <td>Find the remainder when [math]23^{24}[/math] i...</td>\n",
       "      <td>0</td>\n",
       "    </tr>\n",
       "    <tr>\n",
       "      <th>4</th>\n",
       "      <td>4</td>\n",
       "      <td>9</td>\n",
       "      <td>10</td>\n",
       "      <td>Which one dissolve in water quikly sugar, salt...</td>\n",
       "      <td>Which fish would survive in salt water?</td>\n",
       "      <td>0</td>\n",
       "    </tr>\n",
       "    <tr>\n",
       "      <th>5</th>\n",
       "      <td>5</td>\n",
       "      <td>11</td>\n",
       "      <td>12</td>\n",
       "      <td>Astrology: I am a Capricorn Sun Cap moon and c...</td>\n",
       "      <td>I'm a triple Capricorn (Sun, Moon and ascendan...</td>\n",
       "      <td>1</td>\n",
       "    </tr>\n",
       "    <tr>\n",
       "      <th>6</th>\n",
       "      <td>6</td>\n",
       "      <td>13</td>\n",
       "      <td>14</td>\n",
       "      <td>Should I buy tiago?</td>\n",
       "      <td>What keeps childern active and far from phone ...</td>\n",
       "      <td>0</td>\n",
       "    </tr>\n",
       "    <tr>\n",
       "      <th>7</th>\n",
       "      <td>7</td>\n",
       "      <td>15</td>\n",
       "      <td>16</td>\n",
       "      <td>How can I be a good geologist?</td>\n",
       "      <td>What should I do to be a great geologist?</td>\n",
       "      <td>1</td>\n",
       "    </tr>\n",
       "    <tr>\n",
       "      <th>8</th>\n",
       "      <td>8</td>\n",
       "      <td>17</td>\n",
       "      <td>18</td>\n",
       "      <td>When do you use シ instead of し?</td>\n",
       "      <td>When do you use \"&amp;\" instead of \"and\"?</td>\n",
       "      <td>0</td>\n",
       "    </tr>\n",
       "    <tr>\n",
       "      <th>9</th>\n",
       "      <td>9</td>\n",
       "      <td>19</td>\n",
       "      <td>20</td>\n",
       "      <td>Motorola (company): Can I hack my Charter Moto...</td>\n",
       "      <td>How do I hack Motorola DCX3400 for free internet?</td>\n",
       "      <td>0</td>\n",
       "    </tr>\n",
       "  </tbody>\n",
       "</table>\n",
       "</div>"
      ],
      "text/plain": [
       "   id  qid1  qid2                                          question1  \\\n",
       "0   0     1     2  What is the step by step guide to invest in sh...   \n",
       "1   1     3     4  What is the story of Kohinoor (Koh-i-Noor) Dia...   \n",
       "2   2     5     6  How can I increase the speed of my internet co...   \n",
       "3   3     7     8  Why am I mentally very lonely? How can I solve...   \n",
       "4   4     9    10  Which one dissolve in water quikly sugar, salt...   \n",
       "5   5    11    12  Astrology: I am a Capricorn Sun Cap moon and c...   \n",
       "6   6    13    14                                Should I buy tiago?   \n",
       "7   7    15    16                     How can I be a good geologist?   \n",
       "8   8    17    18                    When do you use シ instead of し?   \n",
       "9   9    19    20  Motorola (company): Can I hack my Charter Moto...   \n",
       "\n",
       "                                           question2  is_duplicate  \n",
       "0  What is the step by step guide to invest in sh...             0  \n",
       "1  What would happen if the Indian government sto...             0  \n",
       "2  How can Internet speed be increased by hacking...             0  \n",
       "3  Find the remainder when [math]23^{24}[/math] i...             0  \n",
       "4            Which fish would survive in salt water?             0  \n",
       "5  I'm a triple Capricorn (Sun, Moon and ascendan...             1  \n",
       "6  What keeps childern active and far from phone ...             0  \n",
       "7          What should I do to be a great geologist?             1  \n",
       "8              When do you use \"&\" instead of \"and\"?             0  \n",
       "9  How do I hack Motorola DCX3400 for free internet?             0  "
      ]
     },
     "execution_count": 3,
     "metadata": {},
     "output_type": "execute_result"
    }
   ],
   "source": [
    "dfOriginal.head(10)"
   ]
  },
  {
   "cell_type": "code",
   "execution_count": 4,
   "metadata": {},
   "outputs": [
    {
     "data": {
      "text/plain": [
       "404290"
      ]
     },
     "execution_count": 4,
     "metadata": {},
     "output_type": "execute_result"
    }
   ],
   "source": [
    "len(dfOriginal)"
   ]
  },
  {
   "cell_type": "code",
   "execution_count": 5,
   "metadata": {},
   "outputs": [
    {
     "data": {
      "text/plain": [
       "id              0\n",
       "qid1            0\n",
       "qid2            0\n",
       "question1       1\n",
       "question2       2\n",
       "is_duplicate    0\n",
       "dtype: int64"
      ]
     },
     "execution_count": 5,
     "metadata": {},
     "output_type": "execute_result"
    }
   ],
   "source": [
    "dfOriginal.isnull().sum()"
   ]
  },
  {
   "cell_type": "code",
   "execution_count": 6,
   "metadata": {},
   "outputs": [],
   "source": [
    "dfOriginal.dropna(axis=0, inplace=True)"
   ]
  },
  {
   "cell_type": "code",
   "execution_count": 7,
   "metadata": {},
   "outputs": [
    {
     "data": {
      "text/plain": [
       "404287"
      ]
     },
     "execution_count": 7,
     "metadata": {},
     "output_type": "execute_result"
    }
   ],
   "source": [
    "len(dfOriginal)"
   ]
  },
  {
   "cell_type": "markdown",
   "metadata": {},
   "source": [
    "Example of two questions which share the same semantics."
   ]
  },
  {
   "cell_type": "code",
   "execution_count": 8,
   "metadata": {},
   "outputs": [
    {
     "data": {
      "text/plain": [
       "('How can I be a good geologist?', 'What should I do to be a great geologist?')"
      ]
     },
     "execution_count": 8,
     "metadata": {},
     "output_type": "execute_result"
    }
   ],
   "source": [
    "dfOriginal['question1'][7], dfOriginal['question2'][7]"
   ]
  },
  {
   "cell_type": "code",
   "execution_count": 9,
   "metadata": {
    "scrolled": true
   },
   "outputs": [
    {
     "data": {
      "text/plain": [
       "0    255024\n",
       "1    149263\n",
       "Name: is_duplicate, dtype: int64"
      ]
     },
     "execution_count": 9,
     "metadata": {},
     "output_type": "execute_result"
    }
   ],
   "source": [
    "dfOriginal['is_duplicate'].value_counts()"
   ]
  },
  {
   "cell_type": "code",
   "execution_count": 10,
   "metadata": {},
   "outputs": [],
   "source": [
    "df = dfOriginal.sample(n=10000)"
   ]
  },
  {
   "cell_type": "code",
   "execution_count": 11,
   "metadata": {},
   "outputs": [
    {
     "data": {
      "text/plain": [
       "10000"
      ]
     },
     "execution_count": 11,
     "metadata": {},
     "output_type": "execute_result"
    }
   ],
   "source": [
    "len(df)"
   ]
  },
  {
   "cell_type": "code",
   "execution_count": 12,
   "metadata": {},
   "outputs": [
    {
     "data": {
      "text/plain": [
       "0    6263\n",
       "1    3737\n",
       "Name: is_duplicate, dtype: int64"
      ]
     },
     "execution_count": 12,
     "metadata": {},
     "output_type": "execute_result"
    }
   ],
   "source": [
    "df['is_duplicate'].value_counts()"
   ]
  },
  {
   "cell_type": "markdown",
   "metadata": {},
   "source": [
    "## Vectorize the dataset"
   ]
  },
  {
   "cell_type": "markdown",
   "metadata": {},
   "source": [
    "Let's consider only the top 1000 words appearing in the questions."
   ]
  },
  {
   "cell_type": "code",
   "execution_count": 13,
   "metadata": {},
   "outputs": [],
   "source": [
    "maxWords = 1000"
   ]
  },
  {
   "cell_type": "markdown",
   "metadata": {},
   "source": [
    "We need to decide what's the maximum length of the questions that we shall consider.\n",
    "\n",
    "Let's get the sizes of each question."
   ]
  },
  {
   "cell_type": "code",
   "execution_count": 14,
   "metadata": {},
   "outputs": [],
   "source": [
    "sizeQuestionOne = df['question1'].str.len().tolist()\n",
    "sizeQuestionTwo = df['question2'].str.len().tolist()"
   ]
  },
  {
   "cell_type": "code",
   "execution_count": 15,
   "metadata": {},
   "outputs": [
    {
     "data": {
      "image/png": "[encoded data removed]",
      "text/plain": [
       "<matplotlib.figure.Figure at 0x1cd01465ef0>"
      ]
     },
     "metadata": {},
     "output_type": "display_data"
    }
   ],
   "source": [
    "plt.hist(sizeQuestionOne,bins=100)\n",
    "plt.xlabel('Size');"
   ]
  },
  {
   "cell_type": "code",
   "execution_count": 16,
   "metadata": {},
   "outputs": [
    {
     "data": {
      "image/png": "[encoded data removed]",
      "text/plain": [
       "<matplotlib.figure.Figure at 0x1cd017cfa58>"
      ]
     },
     "metadata": {},
     "output_type": "display_data"
    }
   ],
   "source": [
    "plt.hist(sizeQuestionTwo,bins=100)\n",
    "plt.xlabel('Size');"
   ]
  },
  {
   "cell_type": "code",
   "execution_count": 17,
   "metadata": {},
   "outputs": [
    {
     "data": {
      "text/plain": [
       "(1, 4, 370, 1151)"
      ]
     },
     "execution_count": 17,
     "metadata": {},
     "output_type": "execute_result"
    }
   ],
   "source": [
    "min(sizeQuestionOne), min(sizeQuestionTwo), max(sizeQuestionOne), max(sizeQuestionTwo)"
   ]
  },
  {
   "cell_type": "code",
   "execution_count": 18,
   "metadata": {},
   "outputs": [],
   "source": [
    "questionOne = np.asarray(df['question1'].astype(str).tolist(), dtype='object')\n",
    "questionTwo = np.asarray(df['question2'].astype(str).tolist(), dtype='object')"
   ]
  },
  {
   "cell_type": "markdown",
   "metadata": {},
   "source": [
    "**Process the labels**"
   ]
  },
  {
   "cell_type": "code",
   "execution_count": 19,
   "metadata": {},
   "outputs": [],
   "source": [
    "labels = np.array(df['is_duplicate'].tolist())"
   ]
  },
  {
   "cell_type": "code",
   "execution_count": 20,
   "metadata": {},
   "outputs": [],
   "source": [
    "indices = np.arange(len(df))\n",
    "np.random.shuffle(indices)"
   ]
  },
  {
   "cell_type": "code",
   "execution_count": 21,
   "metadata": {},
   "outputs": [],
   "source": [
    "questionOne = questionOne[indices]\n",
    "questionTwo = questionTwo[indices]\n",
    "labels = labels[indices]"
   ]
  },
  {
   "cell_type": "markdown",
   "metadata": {},
   "source": [
    "**Tokenize the questions**"
   ]
  },
  {
   "cell_type": "code",
   "execution_count": 22,
   "metadata": {},
   "outputs": [],
   "source": [
    "tokenizer = Tokenizer(num_words=maxWords)\n",
    "tokenizer.fit_on_texts(questionOne + questionTwo)\n",
    "sequenceOne = tokenizer.texts_to_sequences(questionOne)\n",
    "sequenceTwo = tokenizer.texts_to_sequences(questionTwo)"
   ]
  },
  {
   "cell_type": "markdown",
   "metadata": {},
   "source": [
    "**Pad the questions**"
   ]
  },
  {
   "cell_type": "code",
   "execution_count": 23,
   "metadata": {},
   "outputs": [],
   "source": [
    "maxQuestionSize = 150"
   ]
  },
  {
   "cell_type": "code",
   "execution_count": 24,
   "metadata": {},
   "outputs": [],
   "source": [
    "dataOne = pad_sequences(sequenceOne, maxlen=maxQuestionSize)\n",
    "dataTwo = pad_sequences(sequenceTwo, maxlen=maxQuestionSize)"
   ]
  },
  {
   "cell_type": "code",
   "execution_count": 25,
   "metadata": {},
   "outputs": [
    {
     "data": {
      "text/plain": [
       "((10000, 150), (10000, 150))"
      ]
     },
     "execution_count": 25,
     "metadata": {},
     "output_type": "execute_result"
    }
   ],
   "source": [
    "dataOne.shape, dataTwo.shape"
   ]
  },
  {
   "cell_type": "code",
   "execution_count": 26,
   "metadata": {},
   "outputs": [
    {
     "data": {
      "text/plain": [
       "(10000,)"
      ]
     },
     "execution_count": 26,
     "metadata": {},
     "output_type": "execute_result"
    }
   ],
   "source": [
    "labels.shape"
   ]
  },
  {
   "cell_type": "markdown",
   "metadata": {},
   "source": [
    "## Split into training, validation and test set"
   ]
  },
  {
   "cell_type": "code",
   "execution_count": 27,
   "metadata": {},
   "outputs": [],
   "source": [
    "trainingSetSize = 8000\n",
    "validationSetSize = 1000"
   ]
  },
  {
   "cell_type": "code",
   "execution_count": 28,
   "metadata": {},
   "outputs": [],
   "source": [
    "trainingSetOne = dataOne[:trainingSetSize]\n",
    "trainingSetTwo = dataTwo[:trainingSetSize]\n",
    "trainingLabels = labels[:trainingSetSize]\n",
    "\n",
    "validationSetOne = dataOne[trainingSetSize: trainingSetSize + validationSetSize]\n",
    "validationSetTwo = dataTwo[trainingSetSize: trainingSetSize + validationSetSize]\n",
    "validationLabels = labels[trainingSetSize: trainingSetSize + validationSetSize]\n",
    "\n",
    "testSetOne = dataOne[trainingSetSize + validationSetSize:]\n",
    "testSetTwo = dataTwo[trainingSetSize + validationSetSize:]\n",
    "testLabels = labels[trainingSetSize + validationSetSize:]"
   ]
  },
  {
   "cell_type": "markdown",
   "metadata": {},
   "source": [
    "## Build the model\n",
    "We will use a Siamese network in order to compute the similarity between the two questions.\n",
    "\n",
    "A Siamese network consists of two identical neural networks or layers, each taking one of the two input questions. The last layers of the two networks are then fed to a contrastive loss function , which calculates the similarity between the two questions."
   ]
  },
  {
   "cell_type": "markdown",
   "metadata": {},
   "source": [
    "### Manhattan Distance"
   ]
  },
  {
   "cell_type": "code",
   "execution_count": 34,
   "metadata": {},
   "outputs": [],
   "source": [
    "def exponent_neg_manhattan_distance(left, right):\n",
    "    return K.exp(-K.sum(K.abs(left-right), axis=1, keepdims=True))"
   ]
  },
  {
   "cell_type": "markdown",
   "metadata": {},
   "source": [
    "### Model"
   ]
  },
  {
   "cell_type": "markdown",
   "metadata": {},
   "source": [
    "**Create the embedding layer**"
   ]
  },
  {
   "cell_type": "code",
   "execution_count": 78,
   "metadata": {},
   "outputs": [],
   "source": [
    "embeddingDimensions = 150\n",
    "embeddingLayer = layers.Embedding(embeddingDimensions, maxQuestionSize)\n",
    "\n",
    "leftInput = Input(shape=(maxQuestionSize,), dtype='int32', name=\"questionOne\")\n",
    "rightInput = Input(shape=(maxQuestionSize,), dtype='int32', name=\"questionTwo\")\n",
    "\n",
    "embeddedQuestionOne = embeddingLayer(leftInput)\n",
    "embeddedQuestionTwo = embeddingLayer(rightInput)\n",
    "\n",
    "lstm = layers.Bidirectional(layers.LSTM(64))\n",
    "\n",
    "leftOutput = lstm(embeddedQuestionOne)\n",
    "rightOutput = lstm(embeddedQuestionTwo)\n",
    "\n",
    "# Calculates the distance as defined by the MaLSTM model\n",
    "distance = layers.Merge(mode=lambda x: exponent_neg_manhattan_distance(x[0], x[1]), \n",
    "                        output_shape=lambda x: (x[0][0], 1))([leftOutput, rightOutput])"
   ]
  },
  {
   "cell_type": "code",
   "execution_count": 79,
   "metadata": {},
   "outputs": [],
   "source": [
    "model = Model([leftInput, rightInput], distance)"
   ]
  },
  {
   "cell_type": "code",
   "execution_count": 80,
   "metadata": {},
   "outputs": [],
   "source": [
    "optimizer = optimizers.Adam()\n",
    "model.compile(optimizer=optimizer,\n",
    "             loss=losses.MSE,\n",
    "             metrics=[metrics.binary_accuracy])"
   ]
  },
  {
   "cell_type": "code",
   "execution_count": 81,
   "metadata": {},
   "outputs": [
    {
     "name": "stdout",
     "output_type": "stream",
     "text": [
      "__________________________________________________________________________________________________\n",
      "Layer (type)                    Output Shape         Param #     Connected to                     \n",
      "==================================================================================================\n",
      "questionOne (InputLayer)        (None, 150)          0                                            \n",
      "__________________________________________________________________________________________________\n",
      "questionTwo (InputLayer)        (None, 150)          0                                            \n",
      "__________________________________________________________________________________________________\n",
      "embedding_11 (Embedding)        (None, 150, 150)     22500       questionOne[0][0]                \n",
      "                                                                 questionTwo[0][0]                \n",
      "__________________________________________________________________________________________________\n",
      "bidirectional_1 (Bidirectional) (None, 128)          110080      embedding_11[0][0]               \n",
      "                                                                 embedding_11[1][0]               \n",
      "__________________________________________________________________________________________________\n",
      "merge_11 (Merge)                (None, 1)            0           bidirectional_1[0][0]            \n",
      "                                                                 bidirectional_1[1][0]            \n",
      "==================================================================================================\n",
      "Total params: 132,580\n",
      "Trainable params: 132,580\n",
      "Non-trainable params: 0\n",
      "__________________________________________________________________________________________________\n"
     ]
    }
   ],
   "source": [
    "model.summary()"
   ]
  },
  {
   "cell_type": "code",
   "execution_count": 93,
   "metadata": {
    "scrolled": true
   },
   "outputs": [
    {
     "name": "stdout",
     "output_type": "stream",
     "text": [
      "Train on 8000 samples, validate on 1000 samples\n",
      "Epoch 1/50\n",
      "8000/8000 [==============================] - 100s 12ms/step - loss: 0.1756 - binary_accuracy: 0.7728 - val_loss: 0.2203 - val_binary_accuracy: 0.6850\n",
      "Epoch 2/50\n",
      "8000/8000 [==============================] - 98s 12ms/step - loss: 0.1750 - binary_accuracy: 0.7719 - val_loss: 0.2186 - val_binary_accuracy: 0.6940\n",
      "Epoch 3/50\n",
      "8000/8000 [==============================] - 99s 12ms/step - loss: 0.1745 - binary_accuracy: 0.7756 - val_loss: 0.2197 - val_binary_accuracy: 0.6850\n",
      "Epoch 4/50\n",
      "8000/8000 [==============================] - 100s 12ms/step - loss: 0.1735 - binary_accuracy: 0.7720 - val_loss: 0.2189 - val_binary_accuracy: 0.6840\n",
      "Epoch 5/50\n",
      "8000/8000 [==============================] - 100s 12ms/step - loss: 0.1734 - binary_accuracy: 0.7766 - val_loss: 0.2192 - val_binary_accuracy: 0.6800\n",
      "Epoch 6/50\n",
      "8000/8000 [==============================] - 99s 12ms/step - loss: 0.1723 - binary_accuracy: 0.7781 - val_loss: 0.2195 - val_binary_accuracy: 0.6810\n",
      "Epoch 7/50\n",
      "8000/8000 [==============================] - 98s 12ms/step - loss: 0.1718 - binary_accuracy: 0.7799 - val_loss: 0.2192 - val_binary_accuracy: 0.6840\n",
      "Epoch 8/50\n",
      "8000/8000 [==============================] - 98s 12ms/step - loss: 0.1710 - binary_accuracy: 0.7782 - val_loss: 0.2183 - val_binary_accuracy: 0.6830\n",
      "Epoch 9/50\n",
      "8000/8000 [==============================] - 98s 12ms/step - loss: 0.1716 - binary_accuracy: 0.7788 - val_loss: 0.2178 - val_binary_accuracy: 0.6870\n",
      "Epoch 10/50\n",
      "8000/8000 [==============================] - 97s 12ms/step - loss: 0.1704 - binary_accuracy: 0.7827 - val_loss: 0.2179 - val_binary_accuracy: 0.6830\n",
      "Epoch 11/50\n",
      "8000/8000 [==============================] - 98s 12ms/step - loss: 0.1696 - binary_accuracy: 0.7855 - val_loss: 0.2192 - val_binary_accuracy: 0.6810\n",
      "Epoch 12/50\n",
      "8000/8000 [==============================] - 97s 12ms/step - loss: 0.1694 - binary_accuracy: 0.7853 - val_loss: 0.2188 - val_binary_accuracy: 0.6800\n",
      "Epoch 13/50\n",
      "8000/8000 [==============================] - 97s 12ms/step - loss: 0.1686 - binary_accuracy: 0.7876 - val_loss: 0.2183 - val_binary_accuracy: 0.6820\n",
      "Epoch 14/50\n",
      "8000/8000 [==============================] - 98s 12ms/step - loss: 0.1680 - binary_accuracy: 0.7896 - val_loss: 0.2193 - val_binary_accuracy: 0.6840\n",
      "Epoch 15/50\n",
      "8000/8000 [==============================] - 98s 12ms/step - loss: 0.1676 - binary_accuracy: 0.7871 - val_loss: 0.2178 - val_binary_accuracy: 0.6870\n",
      "Epoch 16/50\n",
      "8000/8000 [==============================] - 97s 12ms/step - loss: 0.1671 - binary_accuracy: 0.7900 - val_loss: 0.2189 - val_binary_accuracy: 0.6750\n",
      "Epoch 17/50\n",
      "8000/8000 [==============================] - 98s 12ms/step - loss: 0.1664 - binary_accuracy: 0.7933 - val_loss: 0.2191 - val_binary_accuracy: 0.6820\n",
      "Epoch 18/50\n",
      "8000/8000 [==============================] - 97s 12ms/step - loss: 0.1666 - binary_accuracy: 0.7894 - val_loss: 0.2178 - val_binary_accuracy: 0.6820\n",
      "Epoch 19/50\n",
      "8000/8000 [==============================] - 99s 12ms/step - loss: 0.1659 - binary_accuracy: 0.7921 - val_loss: 0.2177 - val_binary_accuracy: 0.6810\n",
      "Epoch 20/50\n",
      "8000/8000 [==============================] - 98s 12ms/step - loss: 0.1655 - binary_accuracy: 0.7943 - val_loss: 0.2178 - val_binary_accuracy: 0.6800\n",
      "Epoch 21/50\n",
      "8000/8000 [==============================] - 97s 12ms/step - loss: 0.1650 - binary_accuracy: 0.7935 - val_loss: 0.2192 - val_binary_accuracy: 0.6770\n",
      "Epoch 22/50\n",
      "8000/8000 [==============================] - 97s 12ms/step - loss: 0.1641 - binary_accuracy: 0.7983 - val_loss: 0.2187 - val_binary_accuracy: 0.6780\n",
      "Epoch 23/50\n",
      "8000/8000 [==============================] - 98s 12ms/step - loss: 0.1639 - binary_accuracy: 0.7996 - val_loss: 0.2180 - val_binary_accuracy: 0.6950\n",
      "Epoch 24/50\n",
      "8000/8000 [==============================] - 98s 12ms/step - loss: 0.1632 - binary_accuracy: 0.7986 - val_loss: 0.2180 - val_binary_accuracy: 0.6830\n",
      "Epoch 25/50\n",
      "8000/8000 [==============================] - 98s 12ms/step - loss: 0.1633 - binary_accuracy: 0.7956 - val_loss: 0.2183 - val_binary_accuracy: 0.6810\n",
      "Epoch 26/50\n",
      "8000/8000 [==============================] - 97s 12ms/step - loss: 0.1624 - binary_accuracy: 0.8000 - val_loss: 0.2204 - val_binary_accuracy: 0.6780\n",
      "Epoch 27/50\n",
      "8000/8000 [==============================] - 98s 12ms/step - loss: 0.1621 - binary_accuracy: 0.8005 - val_loss: 0.2183 - val_binary_accuracy: 0.6840\n",
      "Epoch 28/50\n",
      "8000/8000 [==============================] - 97s 12ms/step - loss: 0.1611 - binary_accuracy: 0.8014 - val_loss: 0.2207 - val_binary_accuracy: 0.6750\n",
      "Epoch 29/50\n",
      "8000/8000 [==============================] - 98s 12ms/step - loss: 0.1614 - binary_accuracy: 0.7999 - val_loss: 0.2198 - val_binary_accuracy: 0.6740\n",
      "Epoch 30/50\n",
      "8000/8000 [==============================] - 98s 12ms/step - loss: 0.1607 - binary_accuracy: 0.8049 - val_loss: 0.2174 - val_binary_accuracy: 0.6900\n",
      "Epoch 31/50\n",
      "8000/8000 [==============================] - 98s 12ms/step - loss: 0.1597 - binary_accuracy: 0.8026 - val_loss: 0.2192 - val_binary_accuracy: 0.6850\n",
      "Epoch 32/50\n",
      "8000/8000 [==============================] - 97s 12ms/step - loss: 0.1596 - binary_accuracy: 0.8077 - val_loss: 0.2201 - val_binary_accuracy: 0.6790\n",
      "Epoch 33/50\n",
      "8000/8000 [==============================] - 98s 12ms/step - loss: 0.1593 - binary_accuracy: 0.8073 - val_loss: 0.2203 - val_binary_accuracy: 0.6710\n",
      "Epoch 34/50\n",
      "8000/8000 [==============================] - 97s 12ms/step - loss: 0.1587 - binary_accuracy: 0.8054 - val_loss: 0.2212 - val_binary_accuracy: 0.6700\n",
      "Epoch 35/50\n",
      "8000/8000 [==============================] - 98s 12ms/step - loss: 0.1589 - binary_accuracy: 0.8076 - val_loss: 0.2206 - val_binary_accuracy: 0.6750\n",
      "Epoch 36/50\n",
      "8000/8000 [==============================] - 98s 12ms/step - loss: 0.1580 - binary_accuracy: 0.8089 - val_loss: 0.2205 - val_binary_accuracy: 0.6780\n",
      "Epoch 37/50\n",
      "8000/8000 [==============================] - 97s 12ms/step - loss: 0.1571 - binary_accuracy: 0.8134 - val_loss: 0.2202 - val_binary_accuracy: 0.6740\n",
      "Epoch 38/50\n",
      "8000/8000 [==============================] - 98s 12ms/step - loss: 0.1568 - binary_accuracy: 0.8144 - val_loss: 0.2210 - val_binary_accuracy: 0.6720\n",
      "Epoch 39/50\n",
      "8000/8000 [==============================] - 98s 12ms/step - loss: 0.1563 - binary_accuracy: 0.8150 - val_loss: 0.2212 - val_binary_accuracy: 0.6730\n",
      "Epoch 40/50\n",
      "8000/8000 [==============================] - 98s 12ms/step - loss: 0.1560 - binary_accuracy: 0.8126 - val_loss: 0.2224 - val_binary_accuracy: 0.6720\n",
      "Epoch 41/50\n",
      "8000/8000 [==============================] - 99s 12ms/step - loss: 0.1555 - binary_accuracy: 0.8124 - val_loss: 0.2213 - val_binary_accuracy: 0.6710\n",
      "Epoch 42/50\n",
      "8000/8000 [==============================] - 98s 12ms/step - loss: 0.1548 - binary_accuracy: 0.8157 - val_loss: 0.2207 - val_binary_accuracy: 0.6750\n",
      "Epoch 43/50\n",
      "8000/8000 [==============================] - 99s 12ms/step - loss: 0.1544 - binary_accuracy: 0.8170 - val_loss: 0.2203 - val_binary_accuracy: 0.6750\n",
      "Epoch 44/50\n",
      "8000/8000 [==============================] - 98s 12ms/step - loss: 0.1542 - binary_accuracy: 0.8154 - val_loss: 0.2219 - val_binary_accuracy: 0.6700\n",
      "Epoch 45/50\n",
      "8000/8000 [==============================] - 97s 12ms/step - loss: 0.1541 - binary_accuracy: 0.8165 - val_loss: 0.2216 - val_binary_accuracy: 0.6750\n",
      "Epoch 46/50\n",
      "8000/8000 [==============================] - 98s 12ms/step - loss: 0.1531 - binary_accuracy: 0.8207 - val_loss: 0.2213 - val_binary_accuracy: 0.6760\n",
      "Epoch 47/50\n",
      "8000/8000 [==============================] - 98s 12ms/step - loss: 0.1525 - binary_accuracy: 0.8214 - val_loss: 0.2214 - val_binary_accuracy: 0.6680\n",
      "Epoch 48/50\n",
      "8000/8000 [==============================] - 97s 12ms/step - loss: 0.1524 - binary_accuracy: 0.8229 - val_loss: 0.2210 - val_binary_accuracy: 0.6830\n",
      "Epoch 49/50\n",
      "8000/8000 [==============================] - 98s 12ms/step - loss: 0.1517 - binary_accuracy: 0.8220 - val_loss: 0.2222 - val_binary_accuracy: 0.6700\n",
      "Epoch 50/50\n",
      "8000/8000 [==============================] - 99s 12ms/step - loss: 0.1515 - binary_accuracy: 0.8225 - val_loss: 0.2213 - val_binary_accuracy: 0.6790\n"
     ]
    }
   ],
   "source": [
    "history = model.fit([trainingSetOne, trainingSetTwo], \n",
    "                    trainingLabels, \n",
    "                    epochs=50, \n",
    "                    batch_size=64,\n",
    "                    validation_data=([validationSetOne, validationSetTwo], validationLabels))"
   ]
  },
  {
   "cell_type": "code",
   "execution_count": 84,
   "metadata": {},
   "outputs": [
    {
     "data": {
      "image/png": "[encoded data removed]",
      "text/plain": [
       "<matplotlib.figure.Figure at 0x1ce3118cc50>"
      ]
     },
     "metadata": {},
     "output_type": "display_data"
    },
    {
     "data": {
      "image/png": "[encoded data removed]",
      "text/plain": [
       "<matplotlib.figure.Figure at 0x1ce31197668>"
      ]
     },
     "metadata": {},
     "output_type": "display_data"
    }
   ],
   "source": [
    "acc = history.history['binary_accuracy']\n",
    "val_acc = history.history['val_binary_accuracy']\n",
    "\n",
    "loss = history.history['loss']\n",
    "val_loss = history.history['val_loss']\n",
    "\n",
    "epochs = range(1, len(acc) + 1)\n",
    "\n",
    "plt.plot(epochs, acc, 'bo', label='Training acc')\n",
    "plt.plot(epochs, val_acc, 'b', label='Validation acc')\n",
    "plt.title('Training and validation accuracy')\n",
    "plt.xlabel(\"Epochs\")\n",
    "plt.ylabel(\"Accuracy\")\n",
    "plt.legend()\n",
    "\n",
    "plt.figure()\n",
    "\n",
    "plt.plot(epochs, loss, 'bo', label='Training loss')\n",
    "plt.plot(epochs, val_loss, 'b', label='Validation loss')\n",
    "plt.title('Training and validation loss')\n",
    "plt.xlabel(\"Epochs\")\n",
    "plt.ylabel(\"Loss\")\n",
    "plt.legend()\n",
    "plt.show();"
   ]
  },
  {
   "cell_type": "markdown",
   "metadata": {},
   "source": [
    "## Evaluate on test set"
   ]
  },
  {
   "cell_type": "code",
   "execution_count": 89,
   "metadata": {
    "scrolled": true
   },
   "outputs": [
    {
     "name": "stdout",
     "output_type": "stream",
     "text": [
      "1000/1000 [==============================] - 5s 5ms/step\n"
     ]
    }
   ],
   "source": [
    "values = model.evaluate(x=[testSetOne, testSetTwo], y=testLabels)"
   ]
  },
  {
   "cell_type": "code",
   "execution_count": 91,
   "metadata": {},
   "outputs": [
    {
     "name": "stdout",
     "output_type": "stream",
     "text": [
      "Loss: 0.21182597386837004\n"
     ]
    }
   ],
   "source": [
    "print(\"Loss: \" + str(values[0]))"
   ]
  },
  {
   "cell_type": "code",
   "execution_count": 92,
   "metadata": {},
   "outputs": [
    {
     "name": "stdout",
     "output_type": "stream",
     "text": [
      "Accuracy: 0.686\n"
     ]
    }
   ],
   "source": [
    "print(\"Accuracy: \" + str(values[1]))"
   ]
  },
  {
   "cell_type": "markdown",
   "metadata": {},
   "source": [
    "## Save the model and tokenizer"
   ]
  },
  {
   "cell_type": "code",
   "execution_count": 87,
   "metadata": {},
   "outputs": [],
   "source": [
    "model.save(\"QQPairs.h5\")"
   ]
  },
  {
   "cell_type": "code",
   "execution_count": 88,
   "metadata": {},
   "outputs": [],
   "source": [
    "with open('QQTokenizer.pickle', 'wb') as handle:\n",
    "    pickle.dump(tokenizer, handle, protocol=pickle.HIGHEST_PROTOCOL, fix_imports=True)"
   ]
  }
 ],
 "metadata": {
  "kernelspec": {
   "display_name": "Python 3",
   "language": "python",
   "name": "python3"
  },
  "language_info": {
   "codemirror_mode": {
    "name": "ipython",
    "version": 3
   },
   "file_extension": ".py",
   "mimetype": "text/x-python",
   "name": "python",
   "nbconvert_exporter": "python",
   "pygments_lexer": "ipython3",
   "version": "3.5.0"
  },
  "toc": {
   "nav_menu": {},
   "number_sections": true,
   "sideBar": true,
   "skip_h1_title": true,
   "title_cell": "Table of Contents",
   "title_sidebar": "Contents",
   "toc_cell": false,
   "toc_position": {},
   "toc_section_display": true,
   "toc_window_display": false
  }
 },
 "nbformat": 4,
 "nbformat_minor": 2
}
